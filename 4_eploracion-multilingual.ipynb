{
 "cells": [
  {
   "cell_type": "code",
   "execution_count": 100,
   "metadata": {},
   "outputs": [
    {
     "data": {
      "text/plain": [
       "<module 'myutils' from '/home/antoniovs/Escolar/Sem09/anal-txts/proyecto2/myutils.py'>"
      ]
     },
     "execution_count": 100,
     "metadata": {},
     "output_type": "execute_result"
    }
   ],
   "source": [
    "import pickle\n",
    "import myutils\n",
    "import numpy as np\n",
    "import scipy.spatial\n",
    "import gensim.matutils\n",
    "from gensim import corpora, models\n",
    "\n",
    "from importlib import reload\n",
    "reload(myutils)"
   ]
  },
  {
   "cell_type": "markdown",
   "metadata": {},
   "source": [
    "# Cargando datos pasados"
   ]
  },
  {
   "cell_type": "code",
   "execution_count": 2,
   "metadata": {},
   "outputs": [],
   "source": [
    "txts_spa = pickle.load(open(\"./pickles/txts_spa.pickle\", \"rb\"))\n",
    "dictionary_spa = corpora.Dictionary.load(\"./pickles/dictionary_spa.dict\")\n",
    "frecs_spa = pickle.load(open(\"./pickles/frecs_spa.pickle\", \"rb\"))\n",
    "\n",
    "txts_eng = pickle.load(open(\"./pickles/txts_eng.pickle\", \"rb\"))\n",
    "dictionary_eng = corpora.Dictionary.load(\"./pickles/dictionary_eng.dict\")\n",
    "frecs_eng = pickle.load(open(\"./pickles/frecs_eng.pickle\", \"rb\"))\n",
    "\n",
    "txts_fre = pickle.load(open(\"./pickles/txts_fre.pickle\", \"rb\"))\n",
    "dictionary_fre = corpora.Dictionary.load(\"./pickles/dictionary_fre.dict\")\n",
    "frecs_fre = pickle.load(open(\"./pickles/frecs_fre.pickle\", \"rb\"))\n",
    "\n",
    "movieids = pickle.load(open(\"./pickles/movieids.pickle\", \"rb\"))\n",
    "titulos = pickle.load(open(\"./pickles/titulos.pickle\", \"rb\"))"
   ]
  },
  {
   "cell_type": "code",
   "execution_count": 29,
   "metadata": {},
   "outputs": [],
   "source": [
    "txts_spa = txts_spa[0] + txts_spa[1] + txts_spa[2]\n",
    "txts_fre = txts_fre[0] + txts_fre[1] + txts_fre[2]\n",
    "txts_eng = txts_eng[0] + txts_eng[1] + txts_eng[2]"
   ]
  },
  {
   "cell_type": "markdown",
   "metadata": {},
   "source": [
    "# Creando corpus combinando lenguas"
   ]
  },
  {
   "cell_type": "code",
   "execution_count": 95,
   "metadata": {},
   "outputs": [],
   "source": [
    "stopwords_spa = myutils.intersect_most_common(frecs_spa, n = 300)\n",
    "stopwords_eng = myutils.intersect_most_common(frecs_eng, n = 300)\n",
    "stopwords_fre = myutils.intersect_most_common(frecs_fre, n = 300)\n",
    "\n",
    "lists_spa = myutils.texts2lists(txts_spa, stopwords = stopwords_spa)\n",
    "lists_eng = myutils.texts2lists(txts_eng, stopwords = stopwords_eng)\n",
    "lists_fre = myutils.texts2lists(txts_fre, stopwords = stopwords_fre)\n",
    "\n",
    "corpus = myutils.merge_multilingual(lists_spa, lists_eng, lists_fre)"
   ]
  },
  {
   "cell_type": "code",
   "execution_count": 96,
   "metadata": {},
   "outputs": [
    {
     "name": "stdout",
     "output_type": "stream",
     "text": [
      "Ejemplo de documento combinado:\n",
      "mutación mutation mutation clave key clé evolución evolution évolution permitir enable permettre convertir evolve espèce especie single suprême dominante celled planète planeta organism processus proceso dominant ordinaire soler species millier durar planet année mil process parfois mil slow évolution varios normally géant ciento thousand pologne milenio thousand meridian evolución ofyears mississippi salto few avenir adelante hundred proche polonia millennium chute meridian evolution niagara mississippi leap ensuite futuro forward rocheuses lejano niagara canada catarata falls puis niágara canadian centaine rocosas rockies kilomètre canadiense few anchorage ciento hundred froid kilómetro mile idiot anchorage anchorage aventure frío cold lycée tonto point université aventura stupid marie cuándo otherwise david instituto adventure peine universidad high toucher marie school ambulance david college effleurer tocar marie approche ambulancia david ambulance tocar touch toucher os ambulance assister acercar touch prémices ambulancia honey stade toque ambulance évolution asistir touch mutation comienzo lady apparaître etapa gentleman puberté evolución beginning souvent humano stage déclencher mutación human stress pubertad evolution mlle debido mutation grey periodo manifest instructif estrés puberty apporter emocional often élément señorito trigger thème grey period débat educativo heighten mutant obstante emotional dangereux tema stress injuste central ms sénateur reunión grey kelly palabra quite mauvais peligroso educational conducteur mutante however dangereux injusto fail permettre senador address conduire kelly issue permettre conducir focus sénateur coche hearing mutant peligroso word révéler permiso mutant condition conducir dangerous provoquer senador afraid hostilité mutante unfair violence admitir question cause condición senator exiger público kelly sénat miedo person vote hostilidad behind contre incluso wheel immatriculation violencia dangerous mutant debido license forcer hostilidad drive mutant senado senator exposer votar fact exposer contra mutant mutant registro forward cacher mutante reveal re forzar themselves cacher luz publicly cache público fear liste luz hostility mutant público violence identifier esconder present etats mutante hostility unis miedo urge sénateur identificar senate kelly esconder vote traverser esconder against mur lista mutant pénétrer mutante registration salle identificar force coffre estados mutant blanche unidos expose rumeur senador themselves mutant kelly further capable illinois expose pénétrer cruzar themselves cerveau pared mutant contrôler evitar community pensée cámara hide priver banco wonder volonté blanca afraid américains incluso identify choisir rumor themselves école existir hide élève mutante hide mutant poderoso ms prof penetrar grey mutant mente list madame controlar identify messieurs pensamiento mutant mutant arrancar united exister libre states bel albedrío senator parmi otorgar kelly surtout pueblo illinois dont estadounidense walk capable merecer wall eric derecho walk poser decidir bank dont colegio vault réponse mutante white désespérer profesor house eric mutante house charles caballero senator argument mutante kelly longtemps real rumor race encima ms humain eric grey évoluer pregunta mutant rôder cuyo powerful charles respuesta enter espoir abandonar control retour eric thought mets charles given bâton argumento free roue humanidad american représenter evolucionar deserve futur husmear decide eux dentro whether compter charlar child alberta esperanza school nord esperanza mutant canada cambio teach emmener interponer mutant laughlin futuro lady laughlin charles gentleman vu norte truth tel alberta mutant argent canadá among défier laughlin above madame city eric messieurs laughlin question sauveur city already couille caballero answer permettre vuestro eric risque dinero charles crétin luchar argument madame caballero ago messieurs salvador mankind vainqueur pelota evolve champion valía since cage personal sneak wolverine idiota charles pourboires caballero whatever eau ganador hope bière rey hope ellis jaula return island lobezno future ancien propina charles port es longer arrivé una matter immigrant ciudad far américain china laughlin ré distinto city ouvre cielo laughlin préparatif agua city sommet cerveza gentleman nations isla walk unies ellis money terminer punto fight rassemblement entrada lady chef inmigrante gentleman etats americano savior histoire puerta whatever chef casi hit etats finalizar ball aborderontl preparación personal économie cumbre lady mondial naciones gentleman surl unidas tonight armement acontecimiento winner mutant prometer king effet mayor cage surla reunión wolverine scène líder honey mondial mundial stick législateur líder water américain debatir beer concentrer economía ellis mutant mundial island vue tratado arrival affaire arma point diplomatique fenómeno thousand argent mutante ofamerican stuart impacto immigrant tel escala opening racler mundial its garder legislador door trace americano preparation valoir afirmar nearly argent tema complete continu mutante upcoming attention centro united dégager reunión nations bar diplomático summit sale dinero nearly monstre stu invitation falloir aguantar confirm choix paliza event sauver marca promise manger pena large malicia dinero single armée cuidado gather préférer largar ofworld descendre bar leader confortable bicho history mets raro leader chauffage demonio nation dès transporte discuss toucher sal issue malicia adónde range wolverine elegir economic logan salvar climate marie comer weapon ceinture pícara treaty conseil ejército mutant eh ejército phenomenon coincer preferir its ramener carretera impact charles fenomenal stage muter acogedor many eux calefacción american sommet daño legislator approche chiquillo contend test personal debate lâcher tocar mutant courir piel issue logan ocurrir primary définition daño focus principe emplear ofwhat anthropique doler surface revoir clase strictly professeur pícara diplomatic revoir clase affair physique lobezno owe charles logan money xavier marie stu déjeuner cinturón beat westchester chiquillo without new consejo mark york chiquillo buddy attaquer atrapar worth personnel charlar money soigner lobezno buddy logan paso bar présenter cumbre freak ororo onu hell monroe prueba ride tornade adónde pick voici adónde save scott adónde eat summers suelta rogue cyclope prisa army sauver logan army rencontrer vuestro wow dr definición suddenly jean debilidad prefer grey fortaleza road école humano cozy mutant adiós heater surdoué profesor hurt sécurité adiós personal magnéto kitty sjust magnéto físico touch muter charles skin puissant xavier theyjust guerre apetecer hurt couver desayunar fair mutant westchester hurt humains nueva rogue activité york wolverine longtemps atacar logan dents atención marie sabre médico wear agresseur atención seat associer médico belt dents pícaro advice sabre logan auto tornade ororo safety chariot monroe stick stupide tormenta charles eh scott hmm cyclope summers mutant dégager cíclope summit chemin salvar approach logan doctor test presque jean hurry bouger grey morning cesse escuela logan identité prodigio definition taire mutante ofweak don salvo strong anonymat magneto anthropic défense magneto principle muter mutante desk hostile poderoso bye interdire preparar professor public guerra bye sommer mutante kitty école resto physics pourjeunes humanidad charles surdoué vigilar xavier cyclope actividad breakfast tornade atacar westchester jean socio york étayer suyo attack étudiant dientes medical protéger sable attention apprendre dientes medical contrôler sable attention puis tormenta rogue enseigner rueda ah étudiant mayor logan souvent estupidez ororo fugueur jamás monroe apeurer cíclope also esseulé apartar storm certain camino scott danger logan summers eux casi also malicia sitio cyclops incapable recuerdo save contact callar already physique oportunidad dr humains respuesta jean probablement adónde grey pourtant adónde school âge anonimato gift apprendre defensa mutant accepter mutante safe crainte ante magneto john hostilidad magneto bobby público powerful malicia simplemente mutant dépendre escuela war éduquer prodigio brewing enseigner cíclope between partie tormenta mutant surnommer jean rest men alumno humanity bienvenue proteger follow lycée enseñar activity muter controlar attack école enseñar associate façade estudiante sabretooth public soler sabretooth sol huir storm découvrir asustar wheel contrôler fuerte stupid pensée peligroso cyclops âge demás logan rencontrer pícara almost certain incapaz memory eric contacto ofwho lensherr físico shut créer humano chance champ seguramente able magnétique resto answer humanité edad gift accepter aprender anonymity ranc rechazo mutant installer miedo chance magnéto john against mutant bobby hostility doter llama power incroyable pícaro public don ocurrir merely partager depender school respect joven gift humanité educar youngster opposer enseñar cyclops eux convertir storm humanité afecto jean disparaître hombres student ra bienvenida protect pacte instituto teach magnéto mutante control parole escuela power retrouver cara teach exterminez público student mutants nivel mostly approuver subterráneo runaway immatriculation completamente frighten arme diferente alone certain descubrir gift destruction controlar extreme dix mente become puissant joven danger pistolet eric themselves différence lensherr rogue arme extraño incapable école crear physical serrer campo human vote magnético contact tel controlar probably enjeu metal rest sommet humanidad yet atout jamás age sommer aceptar learn américains crecer accept henry lleno fear guise ira john mutant rencor bobby situation convertir rogue mutant magneto ll jean mutante rejoin grey increíble educate enfermer logan young guerre compartir teach est respeto become pilote humanidad child cause preparar affectionately école oponer welcome impatient humanidad mutant enlever trato high chemise averiguar school métal magneto merely alliage palabra public adamantium recuperar face censé mandad low indestructible los level greffer mutantes however squelette luna entirely survivre registro different tel arma matter opération destructor discover mutation mayor power régénérateur cualquiera control permettre arma whatever cicatriser fuego young rapidement diferencia eric âge arma lensherr presque escuela unusual impossible andar power déterminer justo create âgé voto magnetic professeur andar field expérimentation justo control mutant cumbre metal tel onu humanity magnéto pendiente accept magnéto aprovechar grow crapaud americano angry langue henry vengeful vipère resto become sénateur asunto magneto henry mutante mutant guyrich manera incredible sénateur situación power mystique mutante logan compagnie jean many tel grey share caméléon encerrar respect confirmer guerra mankind craindre existir equip sénateur demonio oppose formule piloto humanity tellement culpa deal étrange temer logan considérer colegio hour guide daño magneto apporter aguantar word lumière quitar power sagesse camiseta piece bienveillance eh together craindre metal senator semblable aleación favor frère adamantium gun mutant considerar registration surprendre indestructible called humanité injertar child craindre quirúrgicamente possess eh esqueleto times craindre sobrevivir destructive sénateur operación force certainement gracias handgun uvre mutación difference lentement capacidad weapon chambre regenerativo school scott curar fair bout herida close couloir edad vote don imposible load supporter determinar close type profesor summit télékinésie aquel advantage déplacer ocurrir americans cerveau experimentación henry sorte mutante rest sorte jamás damn télépathie magneto deal professeur quien mutant puissant magneto situation apprendre sapo mutant développer lengua jean doute largo grey lis senador lock cerveau henry em plaire guyrich war doute senador reason scott mística exist bonne compañía hell nuit adoptar pilot logan cualquiera reason tranquille forma afraid copine confirmar school confiance temeroso child inquiéter senador hurt hein frase shirt cyclope extrañar metal rager maestro alloy sauver luz adamantium hein sabiduría supposedly prochain entendimiento indestructible logan realidad surgically copine miedo graft tranquille clase entire logan hermandad skeleton logan mutantes survive logan sorprender procedure réveiller temer mutation aide miedo uncharted scott senador regenerative attrape supuesto capability oreiller trabajar enable accident lento heal logan cómodo rapidly toucher habitación also pompe scott age énergie final impossible cas pasillo determine mutant aguantar professor absorber telequinética nor don mover experimentation cas mente mutant capacité capacidad unheard cicatriser telepático magneto impression profesor entirely longtemps lejos magneto sentir enseñar yech supérieur desarrollar toad espérer leer wicked servir mente tongue accepter preferir senator nôtre temer henry tommy dudar guyrich plaît scott dead maman logan senator muter acercar mystique dirigeant cíclope company nation quemar many présent salvar shape service eh whatever secret cuidado word ontfait próximo speak ellis logan confirm lsland acercar fearing forteresse logan senator cérémonie logan such ouverture logan strange demain despierto phrase ellis scott teacher island coger bringer està almohada light kilomètre accidente wisdom malicia logan understanding bobby pícara afraid malicia tocar brotherhood paraître absorber mutants vole energía though mutant fuerza surprise emprunter vital mankind utiliser caso fear contre mutante fear muter absorber senator choix durante certainly place rato fear étudiant caso anymore monstre capacidad intend professeur curación slowly xavier tardar comfortable furieux senador room tirer avanzar scott cherche demonio hall eric senador gift étrange sentido actually exister adónde telekinetic mutant aceptar also puissant tommy telepathic important soltar ability façon tommy professor deviner soltar nowhere médium mutante near malicia cumbre powerful partie onu teaching bienvenue asistir develop professeur líder read bienvenue nación rather cérébro servicio afraid salle secreto doubt rond trasformar scott onde isla logan mutant ellis hmm différent verdadero guess ceci fortaleza worry augmenter gala cyclops capacité inauguración burn localiser isla save mutant kilómetro ought distance pícaro careful compte bobby logan malicia pícaro logan magnéto robar logan moyen mutante logan échapper prestar wake système utilizar somebody possible contra scott concevoir mutante grab excuser elección pillow utiliser largar accident cérébro alumno logan certain asustar whenever maîtrise profesor rogue dangereux xavier touch départ furioso energy quai fácil force gare marchar case kilomètre eric mutant quitter raro absorb château mutante gift magnéto poderoso short profiter importante while partie manera case cause psíquico ability pacte pícaro heal seulement bienvenido almost contrarier profesor senator tornade bienvenido advance cyclope cerebro hope raisonner habitación hmm moto realmente hell eh grande senator hier redondo pointless enfuir onda tommy paraître cerebral tommy professeur mutante mommy garçon distinto mutant école humano week vue normal summit manger dispositivo leader ensemble amplificar nation guichet permitir attend bienvenue localizar secret professeur mutante service retourner distancia transform instinct pretender ellis garçon pícara island embrasser magneto veritable semaine hallar fort coma manera knox présence proteger tomorrow pareil construir opening xavier disculpa gala partie utilizar ellis sembler cerebro island précieux falta rest crétin nivel less soin control mile promettre resultar shore promettre peligroso manhattan departs embarcar rogue environ andén bobby taille estación rogue cheveu kilómetro steal brun magneto mutant crier marchar power wolverine culpa borrow fameux trato power griffe molestar power métallique tormenta against traverser cíclope mutant corps moto choice pauvre eh myself garçon chiquillo student jeune anoche freak surla escapar professor suite profesor xavier homo enfadar furious sapiens escuela easy pistolet cuándo eric suffire comer strange eric echar powerful cachette vistazo mutant charles ventanilla important lire bienvenido psychic pensée profesor rogue sauver caso welcome falloir instinto professor charles besar welcome servir coma cerebro ratifier durante certainly loi semana round enchaîner dentro room numéro xavier brain front soler wave ainsi ocurrir mutant libérer menudo different risquer oportunidad average charles empollón human refuser cuidar being sacrifice prometer device faible prometer amplify revoir destino power charles altura allow tromper pelo locate casque castaño mutant but grita across entraver jugar distance télépathie lobezno intend dessein impresionante rogue méthode metal magneto banal tuyo seem dégât cuerpo shield combattre bastar himself joindre diablo build équipe muchacho ifyou etre jovencito ll man quieto excuse mutant quieto cerebro plein homo degree détester sapiens control protéger arma dangerous magnéto eric board guerre marchar track préparer sal train côté charles station choisir leer few camp pensamiento mile dr salvar west jean charlar logan grey servir mansion sénateur aprobar opportunity kelly ley magneto professeur encadenar reason charles número deal xavier frente upset hôpital pues storm traiter averiguar cyclops muter soltar ifyou sommer tentar motorcycle sénateur suerte professor relaxer charles mad bienvenue parar school futur reacio saw frère sacrificio lunch machine débil check émettre adiós ticket radiation charles agent muter cometer welcome humains terrible professor mutation error follow naturel modo instinct corps casco kiss kelly diseñar coma rejeter bloquear week cellule telepatía inside détruire intención many effet adónde xavier mutant manera seem apparemment tradicional genuinely inexistant logan rare craindre vosotros geeks nuire fastidiar shot normale lucha ofyou magnéto luchar promise intéresser vosotros promise malicia equipo along machine demonio height puiser mutante brown énergie lleno hair magnéto os scream affaiblir odiar quit presque os play transférer temer wolverine malicia proteger remarkable utiliser magneto metal alimenter guerra entire machine punto body plaît estallar hell détester bando dear normal correcto whoever parfois elegir young eux bando homo eh doctor sapiens craindre jean gun cyclope grey eric tornade senador charles préparer kelly read jet profesor save malicia charles charles mission xavier accomplish danger miedo pass refaire hospital law toit mutante chain gare senador number atteindre relajar burn malicia daño forehead poitrine bienvenido release mission futuro press coller máquina luck sénateur emitir charles kelly radiación unwilling régler provocar sacrifice hein mutación weak apprendre humano bye veiller normal charles eux mutación terrible jean natural mistake jean cuerpo helmet jean kelly somehow jean rechazar design répondre célula block plaît romper telepathy magnéto efecto till magnifique mutante traditional vue dañar logan vue cualquiera alone etats normal far unis exponer bang terre magneto job tolérance pícara fight paix máquina fight car obtener join tolérance potencia team exister partir hell paix magneto mutant exister debilitar full ailleurs casi hate famille mata fear entier transferir waste détruire pícara protect car utilizar em étayer potencia magneto différent máquina war dirigeant odiar side eh normal least puissant miedo choose frère miedo side mutant cíclope dr cause tormenta jean survie reactor grey sacrifice pícara senator maigre uniforme kelly consolation logan professor machine peligro charles monter misión xavier magnéto estación afraid liberty techo hospital island solar treat but apuñalar mutant probablement pícara senator muter pecho relax dirigeant coger hurt sommet misioncita welcome ellis meter future lsland senador brother machine kelly machine professeur arreglar emit magnéto enseñar radiation malicia valía trigger new pena mutation york ocurrir ordinary décimer cuidar human descendre jean being pont jean mutation george jean unnatural washington jean kelly contourner responder body extérieur adónde reject manhattan dirigir cell atterrir magneto begin liberty magnífico almost island américa immediately patrouille tierra effect radar tolerancia radiation repérer paz mutant mériter tierra appear attraper tolerancia none préférer existir fear lycra paz seriously jaune sitio harm ouah familia normal pont entero person descendre destruir expose tornade nacer magneto camoufler distinto rogue crapaud ocupar machine mystique poderoso draw ouvrer mutante its sommer causa power affaiblir suyo magneto défense sacrificio weaken orage supervivencia fact préparer servir nearly atterrissage consuelo transfer torche máquina power personnalité subir rogue atmosphère magneto power chaleureux isla machine tandis libertad somebody plier objetivo alone contrôle convertir hate sécurité mutante normal ouvrer líder sometimes logan cumbre afraid reculer isla less reculer ellis person jean desconocer afraid bouge máquina cyclops crapaud suyo storm frapper mata ready foudre juzgar jet importer profesor rogue logan magneto jean loin suficiente logan regrouper pícara uniform partie ciudad whoa groupe nueva professor prouver york endanger connard infiltrar mission bouger puente train frère george station bienvenue washington sunroof griffe rodear pal lieu ribera stab fermer manhattan rogue yeux aterrizar chest tornade extremo scott brûler isla mission éclair patrulla stick conducteur portuario senator cuivre radar kelly habiter detectar dead école reactor settle historique merecer teach mystique atrapar worth mystique calle jean sénateur preferir jean kelly plástico jean sénateur amarillo jean survivre puente answer chute descender magneto nage tormenta magnificent rivage cubrir saw puissant sapo america remercier mística land président atento tolerance etats debilitar peace unis momentáneamente land accueillir defensa tolerance événement acercar peace ville tormenta anywhere new llama child york aterrizaje family contrôler antorcha destroy destin acto simply mutant dignatario bear eh comenzar different destin recibir power bientôt atmósfera tonight secours tranquilo powerful secours concebir return connerie entretener brother vertueux mientras mutant machine estricto cause secours control theirs secours seguridad sacrifice plaît logan survival eh maldición small logan atrás consolation cher atrás machine hurlement jean raise eh oh magneto régler mover liberty sort jamás island jean sapo presumably scott alcanzar objective signal rayo mutate ouvrer cualquiera leader oeil logan summit atteindre andar ellis anneau lejos island tourner reagrupar machine tire grupo judge tornade demostrar professor pousser capullo saw tel mover magneto contrôle mío rogue échouer bienvenido power exploser apuntar wipe dispositif garra everyone utiliser tuya york sorte dirección city stable cierre insert scott tormenta george choix freír washington tire rayo bridge occuper enorme bank bienvenue conductor manhattan réveiller cobre land guider escuela far chatouille aquel side eh familiarizar liberty sentir significado island plein histórico harbor forme místico patrol courageux místico radar marché senador pick emprunter kelly ourjet charmant sobrevivir deserve caractère caída catch survivre nadar actually amoureux costa outside ben imaginar prefer bat agradecer yellow professeur presidente spandex ancien estados whoa base unidos bridge militaire américa storm lac organizar cover alkali reunión toad près bajo mystique endroit luz sharp réponse ciudad alone revoir nueva power immatriculation york temporarily mutant abajo weaken partisan controlar defense revirement destino sound sénateur mutante storm kelly pronto landing présent destino torch fervent suyo within défenseur socorro mile loi ayuda proceeding tortsur farsante dignitary sujet digno arrive espérer subir hour pardonner socorro ago loi socorro greet continuer logan sort soutenir grito garden mystique eh party enfoiré capullo atmosphere association jean design parent scott entertain sentir confiar traverse menacer anillo rigid mutant rápido security corps disparar open assister tormenta logan sénateur subir damn kelly controlar em henry conseguir jean guyrich cargar toad retrouver jean strike coroner utilizar lightning guyrich equilibrar logan déchiqueter agarrar shh ours scott far enfuir jean regroup nord tiro problem plaire jugar part ecole vivo group xavier bienvenido prove jeunes ello dick surdoues guiar everybody réveiller cosquillas ah nuit eh brother sentiment fantástico welcome ratifier valiente point loi funcionar claw stupide prestar ofyours réveiller rasgo safe pitié encantador direction ennui personalidad close école sobrevivir storm charles colar fry dont pues bolt réponse corazón lightning perpétuel pertenecer huge quête profesor copper espoir base conductor prison militar school plastique abandonar ofyou retenir lago familiar guerre alkali historical couver rocosas significance charles canadiense mystique compte cerca mystique battre pie senator moyen respuesta kelly despedir senator ley survive registro fall mutantes swim principal shore valedor become retractar powerful senador imagine robert dead kelly true quien saw arduo saw defensor saw registro also mutante president equivocar united asunto states perdonar host ley event registro under mutantes light apoyo city místico york puta none amenazar ofyou mutante control identificar fate además fate cuerpo mutant secretario soon senador fate kelly theirs henry full guyrich righteous hallar somebody informe somebody preliminar somebody forense logan indicar dear guyrich mine atacar owe oso scream sal bub correr finish par yet norte jean vaya scott escuela open xavier trust jóvenes drop prodigio mention despierto cyclops pleno hit aprobar ring ley fast cuándo shoot enorme storm piedad control pobre fly alma torch escuela least pelea blast charles damn pregunta jean respuesta power ah steady continuo hang búsqueda scott esperanza shot prisión alive plástico welcome suyo guide retener tickle eternamente re guerra fantastic punto brave charlar few intención ofyour participar charm necesario personality trait while heart belong professor abandon military compound alkali lake canadian rockies close answer bye mutant registration act its main proponent today dramatic reversal senator robert kelly until provide loudest voice cry mutant registration particular issue hope forgive mutant registration act continue draw support mystique son bitch many parents rights group threaten unidentified mutant school system relate story body senator kelly longtime aide henry guyrich today preliminary coroner report seem indicate guyrich maul bear north wake middle someday pass foolish law child indeed wake swell pity poor soul school trouble charles question already answer continue search hope plastic prison theirs forever war charles intend fight necessary\n"
     ]
    }
   ],
   "source": [
    "peli = 10\n",
    "print(\"Ejemplo de documento combinado:\")\n",
    "print(\" \".join(corpus[10]))"
   ]
  },
  {
   "cell_type": "code",
   "execution_count": 97,
   "metadata": {},
   "outputs": [],
   "source": [
    "corpus1 = myutils.split_lists(corpus, chunk_size = 100, overlap_size = 50)\n",
    "corpus2 = myutils.split_lists(corpus, chunk_size = 50, overlap_size = 25)\n",
    "corpus3 = myutils.split_lists(corpus, chunk_size = 200, overlap_size = 100)\n",
    "corpus = corpus1 + corpus2 + corpus3"
   ]
  },
  {
   "cell_type": "code",
   "execution_count": 98,
   "metadata": {},
   "outputs": [
    {
     "name": "stdout",
     "output_type": "stream",
     "text": [
      "Número de tokens en corpus combinado: 76144\n"
     ]
    }
   ],
   "source": [
    "dictionary_multi = corpora.Dictionary(corpus)\n",
    "print(\"Número de tokens en corpus combinado:\", len(dictionary_multi))"
   ]
  },
  {
   "cell_type": "code",
   "execution_count": 99,
   "metadata": {},
   "outputs": [
    {
     "name": "stdout",
     "output_type": "stream",
     "text": [
      "Número de documentos tras segmentar: 122413\n"
     ]
    }
   ],
   "source": [
    "corpus = myutils.lists2bow(corpus, dictionary_multi)\n",
    "print(\"Número de documentos tras segmentar:\", len(corpus))"
   ]
  },
  {
   "cell_type": "markdown",
   "metadata": {},
   "source": [
    "# Entrenando un modelo LDA sobre el corpus combinado"
   ]
  },
  {
   "cell_type": "code",
   "execution_count": 55,
   "metadata": {},
   "outputs": [
    {
     "name": "stderr",
     "output_type": "stream",
     "text": [
      "/home/antoniovs/Escolar/Sem09/anal-txts/proyecto2/environment/lib/python3.6/site-packages/gensim/models/ldamodel.py:1023: RuntimeWarning: divide by zero encountered in log\n",
      "  diff = np.log(self.expElogbeta)\n"
     ]
    }
   ],
   "source": [
    "model_multi = models.LdaModel(corpus, id2word=dictionary_multi, num_topics= 100, passes = 6, iterations = 400)"
   ]
  },
  {
   "cell_type": "code",
   "execution_count": 58,
   "metadata": {},
   "outputs": [
    {
     "data": {
      "text/plain": [
       "[(43,\n",
       "  '0.089*\"bill\" + 0.051*\"buddy\" + 0.039*\"bar\" + 0.037*\"sexy\" + 0.024*\"fumar\" + 0.021*\"bonsoir\" + 0.021*\"fumer\" + 0.015*\"marie\" + 0.013*\"brooklyn\" + 0.012*\"menteur\"'),\n",
       " (71,\n",
       "  '0.080*\"normal\" + 0.038*\"christ\" + 0.030*\"star\" + 0.029*\"dick\" + 0.026*\"golpear\" + 0.019*\"estrella\" + 0.019*\"sake\" + 0.019*\"matt\" + 0.018*\"loi\" + 0.017*\"sheriff\"'),\n",
       " (15,\n",
       "  '0.016*\"verdadero\" + 0.015*\"coucher\" + 0.014*\"awesome\" + 0.010*\"marido\" + 0.010*\"college\" + 0.010*\"année\" + 0.010*\"regretter\" + 0.009*\"act\" + 0.009*\"espoir\" + 0.009*\"faute\"'),\n",
       " (8,\n",
       "  '0.091*\"happy\" + 0.054*\"daughter\" + 0.038*\"sigh\" + 0.032*\"birthday\" + 0.028*\"anniversaire\" + 0.027*\"cumpleaños\" + 0.024*\"anna\" + 0.022*\"list\" + 0.015*\"infection\" + 0.013*\"probablement\"'),\n",
       " (26,\n",
       "  '0.027*\"number\" + 0.018*\"travailler\" + 0.014*\"trabajar\" + 0.013*\"instant\" + 0.012*\"glass\" + 0.010*\"amoureux\" + 0.010*\"rico\" + 0.009*\"anyway\" + 0.009*\"gros\" + 0.009*\"mas\"'),\n",
       " (7,\n",
       "  '0.067*\"sang\" + 0.054*\"sangre\" + 0.038*\"toucher\" + 0.027*\"kane\" + 0.019*\"corps\" + 0.018*\"monstre\" + 0.018*\"bird\" + 0.016*\"enlever\" + 0.016*\"reculer\" + 0.014*\"vérité\"'),\n",
       " (12,\n",
       "  '0.029*\"carl\" + 0.027*\"maldición\" + 0.023*\"cambio\" + 0.023*\"perfect\" + 0.022*\"pena\" + 0.018*\"suicide\" + 0.016*\"word\" + 0.016*\"extra\" + 0.016*\"catch\" + 0.016*\"invite\"'),\n",
       " (98,\n",
       "  '0.083*\"mentir\" + 0.055*\"walter\" + 0.040*\"mariage\" + 0.037*\"arreglar\" + 0.032*\"marier\" + 0.020*\"écrire\" + 0.019*\"signe\" + 0.019*\"innocent\" + 0.017*\"lie\" + 0.017*\"épouser\"'),\n",
       " (75,\n",
       "  '0.073*\"question\" + 0.053*\"answer\" + 0.023*\"respuesta\" + 0.021*\"réponse\" + 0.021*\"clothes\" + 0.019*\"fish\" + 0.018*\"obviously\" + 0.018*\"gamin\" + 0.016*\"foster\" + 0.014*\"memory\"'),\n",
       " (99,\n",
       "  '0.035*\"londres\" + 0.028*\"business\" + 0.028*\"meeting\" + 0.027*\"conversation\" + 0.020*\"matrimonio\" + 0.020*\"are\" + 0.020*\"desastre\" + 0.018*\"marriage\" + 0.017*\"million\" + 0.016*\"habiller\"'),\n",
       " (1,\n",
       "  '0.074*\"play\" + 0.058*\"lady\" + 0.031*\"sing\" + 0.030*\"écrire\" + 0.030*\"gentleman\" + 0.029*\"tonight\" + 0.027*\"song\" + 0.021*\"saltar\" + 0.020*\"girlfriend\" + 0.020*\"vino\"'),\n",
       " (13,\n",
       "  '0.070*\"house\" + 0.050*\"annie\" + 0.050*\"write\" + 0.049*\"jugar\" + 0.048*\"juego\" + 0.028*\"amanda\" + 0.025*\"dinner\" + 0.023*\"pop\" + 0.021*\"grace\" + 0.020*\"cena\"'),\n",
       " (10,\n",
       "  '0.019*\"arma\" + 0.018*\"tirer\" + 0.018*\"ln\" + 0.015*\"soltar\" + 0.015*\"atrás\" + 0.015*\"feu\" + 0.014*\"arme\" + 0.014*\"gun\" + 0.011*\"lâcher\" + 0.010*\"cuidado\"'),\n",
       " (37,\n",
       "  '0.055*\"message\" + 0.040*\"dress\" + 0.029*\"mensaje\" + 0.027*\"chuck\" + 0.022*\"demain\" + 0.020*\"allô\" + 0.020*\"pastel\" + 0.019*\"neither\" + 0.019*\"apartment\" + 0.018*\"tienda\"'),\n",
       " (27,\n",
       "  '0.051*\"fight\" + 0.028*\"promise\" + 0.028*\"guerra\" + 0.027*\"war\" + 0.024*\"victoria\" + 0.020*\"battre\" + 0.020*\"guerre\" + 0.018*\"pelear\" + 0.014*\"luchar\" + 0.012*\"fear\"'),\n",
       " (18,\n",
       "  '0.090*\"histoire\" + 0.058*\"music\" + 0.050*\"raconter\" + 0.042*\"mm\" + 0.034*\"point\" + 0.027*\"va\" + 0.026*\"playing\" + 0.026*\"punto\" + 0.026*\"lincoln\" + 0.021*\"simplement\"'),\n",
       " (55,\n",
       "  '0.104*\"dr\" + 0.080*\"luz\" + 0.062*\"light\" + 0.047*\"lumière\" + 0.031*\"cita\" + 0.025*\"apagar\" + 0.023*\"encender\" + 0.019*\"chicago\" + 0.017*\"times\" + 0.015*\"fleur\"'),\n",
       " (54,\n",
       "  '0.169*\"john\" + 0.075*\"leer\" + 0.070*\"game\" + 0.062*\"kiss\" + 0.044*\"médico\" + 0.036*\"jim\" + 0.032*\"srta\" + 0.030*\"morder\" + 0.026*\"horse\" + 0.026*\"hôpital\"'),\n",
       " (23,\n",
       "  '0.104*\"peter\" + 0.093*\"mary\" + 0.082*\"ben\" + 0.046*\"jane\" + 0.045*\"tío\" + 0.042*\"harry\" + 0.032*\"pete\" + 0.031*\"man\" + 0.029*\"ama\" + 0.024*\"spider\"'),\n",
       " (6,\n",
       "  '0.115*\"doctor\" + 0.057*\"choisir\" + 0.042*\"clé\" + 0.038*\"docteur\" + 0.035*\"patient\" + 0.032*\"dr\" + 0.025*\"elegir\" + 0.021*\"mention\" + 0.017*\"mencionar\" + 0.016*\"coma\"'),\n",
       " (34,\n",
       "  '0.042*\"adam\" + 0.027*\"especial\" + 0.024*\"flash\" + 0.023*\"blind\" + 0.020*\"nick\" + 0.019*\"reír\" + 0.018*\"special\" + 0.016*\"ciego\" + 0.015*\"effrayer\" + 0.014*\"celebrar\"'),\n",
       " (5,\n",
       "  '0.060*\"week\" + 0.060*\"semana\" + 0.042*\"semaine\" + 0.027*\"ass\" + 0.025*\"charlie\" + 0.025*\"mes\" + 0.025*\"month\" + 0.023*\"wall\" + 0.018*\"kick\" + 0.014*\"weekend\"'),\n",
       " (82,\n",
       "  '0.038*\"king\" + 0.034*\"rey\" + 0.025*\"rise\" + 0.021*\"upon\" + 0.020*\"sea\" + 0.020*\"dama\" + 0.017*\"pleurer\" + 0.017*\"tommy\" + 0.014*\"deseo\" + 0.014*\"queen\"'),\n",
       " (47,\n",
       "  '0.018*\"humano\" + 0.017*\"human\" + 0.013*\"humain\" + 0.013*\"exister\" + 0.012*\"brujo\" + 0.010*\"cuerpo\" + 0.009*\"mente\" + 0.009*\"vision\" + 0.009*\"créer\" + 0.008*\"bestia\"'),\n",
       " (64,\n",
       "  '0.040*\"attack\" + 0.030*\"atacar\" + 0.030*\"au\" + 0.027*\"dessus\" + 0.024*\"stone\" + 0.023*\"attaquer\" + 0.020*\"fingir\" + 0.020*\"pierre\" + 0.019*\"capsule\" + 0.018*\"ataque\"'),\n",
       " (50,\n",
       "  '0.075*\"gusto\" + 0.052*\"sorcier\" + 0.030*\"engañar\" + 0.028*\"trick\" + 0.026*\"moitié\" + 0.024*\"personnalité\" + 0.022*\"está\" + 0.021*\"press\" + 0.021*\"muerte\" + 0.019*\"condenar\"'),\n",
       " (69,\n",
       "  '0.071*\"police\" + 0.058*\"phone\" + 0.057*\"policía\" + 0.051*\"los\" + 0.039*\"street\" + 0.032*\"calle\" + 0.021*\"cop\" + 0.021*\"murder\" + 0.020*\"teléfono\" + 0.020*\"steve\"'),\n",
       " (16,\n",
       "  '0.035*\"parent\" + 0.034*\"garçon\" + 0.026*\"mme\" + 0.023*\"inviter\" + 0.019*\"country\" + 0.015*\"magnifique\" + 0.015*\"cancer\" + 0.014*\"revoir\" + 0.011*\"gentil\" + 0.011*\"bastar\"'),\n",
       " (77,\n",
       "  '0.063*\"chambre\" + 0.061*\"marry\" + 0.059*\"casar\" + 0.033*\"mama\" + 0.029*\"room\" + 0.028*\"regla\" + 0.027*\"règle\" + 0.027*\"rule\" + 0.023*\"café\" + 0.022*\"caminar\"'),\n",
       " (74,\n",
       "  '0.080*\"brother\" + 0.035*\"alive\" + 0.032*\"cansar\" + 0.025*\"sun\" + 0.023*\"caballo\" + 0.022*\"fat\" + 0.021*\"enfermo\" + 0.017*\"disfrutar\" + 0.017*\"cómodo\" + 0.017*\"superman\"'),\n",
       " (14,\n",
       "  '0.038*\"error\" + 0.037*\"camp\" + 0.035*\"mistake\" + 0.034*\"dent\" + 0.033*\"erreur\" + 0.031*\"fiche\" + 0.023*\"bloody\" + 0.022*\"finger\" + 0.021*\"dedo\" + 0.020*\"cometer\"'),\n",
       " (28,\n",
       "  '0.035*\"thy\" + 0.031*\"nave\" + 0.030*\"ex\" + 0.027*\"señal\" + 0.020*\"vaisseau\" + 0.017*\"signal\" + 0.014*\"satellite\" + 0.013*\"officer\" + 0.013*\"respirer\" + 0.012*\"ship\"'),\n",
       " (67,\n",
       "  '0.067*\"barry\" + 0.035*\"breathe\" + 0.034*\"gracioso\" + 0.029*\"alice\" + 0.027*\"seat\" + 0.027*\"trasero\" + 0.026*\"effet\" + 0.025*\"excite\" + 0.022*\"mordre\" + 0.020*\"grab\"'),\n",
       " (68,\n",
       "  '0.071*\"rose\" + 0.020*\"dan\" + 0.020*\"sad\" + 0.017*\"uncle\" + 0.016*\"correo\" + 0.016*\"víctima\" + 0.015*\"guest\" + 0.014*\"souci\" + 0.014*\"herida\" + 0.013*\"asesinato\"'),\n",
       " (70,\n",
       "  '0.070*\"escribir\" + 0.069*\"significar\" + 0.053*\"extraño\" + 0.034*\"strange\" + 0.033*\"darling\" + 0.033*\"slow\" + 0.031*\"acostar\" + 0.029*\"mark\" + 0.028*\"san\" + 0.021*\"adorable\"'),\n",
       " (4,\n",
       "  '0.042*\"tierra\" + 0.036*\"ii\" + 0.035*\"lever\" + 0.035*\"bailar\" + 0.031*\"marcus\" + 0.031*\"marché\" + 0.028*\"sol\" + 0.023*\"soleil\" + 0.021*\"gauche\" + 0.021*\"saint\"'),\n",
       " (81,\n",
       "  '0.075*\"hate\" + 0.028*\"odiar\" + 0.025*\"green\" + 0.025*\"monster\" + 0.021*\"todos\" + 0.021*\"joke\" + 0.018*\"monstruo\" + 0.015*\"verde\" + 0.013*\"price\" + 0.013*\"manage\"'),\n",
       " (57,\n",
       "  '0.058*\"mike\" + 0.043*\"virus\" + 0.020*\"but\" + 0.016*\"santé\" + 0.015*\"lengua\" + 0.014*\"professor\" + 0.014*\"banda\" + 0.012*\"aise\" + 0.012*\"mutation\" + 0.011*\"access\"'),\n",
       " (9,\n",
       "  '0.076*\"alex\" + 0.038*\"pied\" + 0.036*\"relax\" + 0.030*\"foot\" + 0.025*\"devil\" + 0.020*\"upstairs\" + 0.017*\"shock\" + 0.016*\"dean\" + 0.015*\"bois\" + 0.013*\"mudar\"'),\n",
       " (76,\n",
       "  '0.028*\"miedo\" + 0.019*\"truth\" + 0.013*\"choose\" + 0.011*\"ocurrir\" + 0.011*\"igual\" + 0.010*\"choice\" + 0.010*\"matter\" + 0.009*\"regresar\" + 0.008*\"lamento\" + 0.008*\"chance\"'),\n",
       " (95,\n",
       "  '0.068*\"school\" + 0.066*\"perro\" + 0.057*\"dog\" + 0.050*\"carajo\" + 0.046*\"chien\" + 0.045*\"high\" + 0.040*\"escuela\" + 0.036*\"école\" + 0.034*\"max\" + 0.028*\"bobby\"'),\n",
       " (3,\n",
       "  '0.054*\"sister\" + 0.050*\"joe\" + 0.024*\"sœur\" + 0.020*\"smile\" + 0.018*\"tarjeta\" + 0.017*\"luna\" + 0.015*\"energía\" + 0.014*\"moon\" + 0.014*\"source\" + 0.014*\"naturaleza\"'),\n",
       " (86,\n",
       "  '0.028*\"proteger\" + 0.027*\"protéger\" + 0.025*\"safe\" + 0.022*\"protect\" + 0.022*\"sécurité\" + 0.019*\"mission\" + 0.018*\"seguridad\" + 0.018*\"security\" + 0.016*\"plan\" + 0.013*\"cargo\"'),\n",
       " (84,\n",
       "  '0.043*\"money\" + 0.041*\"dinero\" + 0.031*\"pay\" + 0.031*\"argent\" + 0.030*\"pagar\" + 0.030*\"photo\" + 0.022*\"foto\" + 0.020*\"payer\" + 0.019*\"vendre\" + 0.019*\"sell\"'),\n",
       " (21,\n",
       "  '0.084*\"maman\" + 0.063*\"book\" + 0.039*\"read\" + 0.038*\"sarah\" + 0.029*\"ooh\" + 0.026*\"soirée\" + 0.025*\"chuckle\" + 0.021*\"amuser\" + 0.020*\"cheveu\" + 0.019*\"âge\"'),\n",
       " (80,\n",
       "  '0.058*\"dance\" + 0.055*\"bob\" + 0.053*\"patricia\" + 0.033*\"fenêtre\" + 0.030*\"van\" + 0.026*\"american\" + 0.024*\"grabar\" + 0.022*\"américain\" + 0.022*\"america\" + 0.018*\"adorar\"'),\n",
       " (39,\n",
       "  '0.017*\"ah\" + 0.013*\"adorer\" + 0.013*\"cool\" + 0.010*\"perdón\" + 0.009*\"genre\" + 0.009*\"génial\" + 0.008*\"encantar\" + 0.008*\"couple\" + 0.008*\"genial\" + 0.008*\"excuse\"'),\n",
       " (41,\n",
       "  '0.039*\"subir\" + 0.039*\"correr\" + 0.034*\"ha\" + 0.030*\"auto\" + 0.026*\"hey\" + 0.022*\"rápido\" + 0.019*\"alejar\" + 0.019*\"canción\" + 0.018*\"cantar\" + 0.015*\"pie\"'),\n",
       " (66,\n",
       "  '0.290*\"ok\" + 0.078*\"morning\" + 0.026*\"ressentir\" + 0.018*\"calmer\" + 0.018*\"jerry\" + 0.017*\"heaven\" + 0.017*\"ow\" + 0.016*\"gosse\" + 0.015*\"road\" + 0.015*\"lane\"'),\n",
       " (63,\n",
       "  '0.080*\"scream\" + 0.078*\"hospital\" + 0.050*\"logan\" + 0.037*\"charles\" + 0.032*\"screaming\" + 0.032*\"jean\" + 0.030*\"crowd\" + 0.029*\"robert\" + 0.025*\"mutant\" + 0.023*\"célula\"')]"
      ]
     },
     "execution_count": 58,
     "metadata": {},
     "output_type": "execute_result"
    }
   ],
   "source": [
    "model_multi.show_topics(num_topics = 50)"
   ]
  },
  {
   "cell_type": "code",
   "execution_count": 60,
   "metadata": {},
   "outputs": [],
   "source": [
    "model_multi.save(\"./pickles/modelos/model_multi.model\")"
   ]
  },
  {
   "cell_type": "markdown",
   "metadata": {},
   "source": [
    "# Explorando distancias entre palabras"
   ]
  },
  {
   "cell_type": "code",
   "execution_count": 101,
   "metadata": {},
   "outputs": [],
   "source": [
    "topics_mat = model_multi.get_topics().T # matriz donde cada palabra es un ranglón de 100 columnas"
   ]
  },
  {
   "cell_type": "code",
   "execution_count": 102,
   "metadata": {},
   "outputs": [],
   "source": [
    "a = dictionary_multi.token2id['money']\n",
    "b = dictionary_multi.token2id['dinero']\n",
    "c = dictionary_multi.token2id['argent']\n",
    "\n",
    "e = dictionary_multi.token2id['dog']\n",
    "f = dictionary_multi.token2id['perro']\n",
    "g = dictionary_multi.token2id['chien']"
   ]
  },
  {
   "cell_type": "code",
   "execution_count": 103,
   "metadata": {},
   "outputs": [],
   "source": [
    "a = topics_mat[a,:]\n",
    "b = topics_mat[b,:]\n",
    "c = topics_mat[c,:]\n",
    "\n",
    "e = topics_mat[e,:]\n",
    "f = topics_mat[f,:]\n",
    "g = topics_mat[g,:]"
   ]
  },
  {
   "cell_type": "code",
   "execution_count": 104,
   "metadata": {},
   "outputs": [],
   "source": [
    "distancias = scipy.spatial.distance.pdist([a,b,c,e,f,g])\n",
    "distancias = scipy.spatial.distance.squareform(distancias)"
   ]
  },
  {
   "cell_type": "code",
   "execution_count": 105,
   "metadata": {},
   "outputs": [
    {
     "name": "stdout",
     "output_type": "stream",
     "text": [
      "[[0.         0.00279951 0.01271675 0.07157819 0.07881712 0.06311633]\n",
      " [0.00279951 0.         0.00991723 0.06991249 0.07730756 0.06122084]\n",
      " [0.01271675 0.00991723 0.         0.06464502 0.07257879 0.05512906]\n",
      " [0.07157819 0.06991249 0.06464502 0.         0.00888158 0.01111013]\n",
      " [0.07881712 0.07730756 0.07257879 0.00888158 0.         0.01999171]\n",
      " [0.06311633 0.06122084 0.05512906 0.01111013 0.01999171 0.        ]]\n"
     ]
    }
   ],
   "source": [
    "print(distancias)"
   ]
  },
  {
   "cell_type": "markdown",
   "metadata": {},
   "source": [
    "# Obteniendo palabras más cercanas"
   ]
  },
  {
   "cell_type": "code",
   "execution_count": 167,
   "metadata": {},
   "outputs": [],
   "source": [
    "def palabras_mas_cercanas(palabra, topics_mat, n = 25):\n",
    "    w_id = dictionary_multi.token2id[palabra]\n",
    "    vec = topics_mat[w_id,:]\n",
    "    distancias = scipy.spatial.distance.cdist([vec], topics_mat)[0]\n",
    "    \n",
    "    w_ids_cercanos = distancias.argsort()[:n]\n",
    "    dists = distancias[w_ids_cercanos]\n",
    "    \n",
    "    for i, w_id in enumerate(w_ids_cercanos):\n",
    "        w = dictionary_multi[w_id]\n",
    "        print(w, \"- {0:.5f}\".format(dists[i]))"
   ]
  },
  {
   "cell_type": "code",
   "execution_count": 168,
   "metadata": {},
   "outputs": [
    {
     "name": "stdout",
     "output_type": "stream",
     "text": [
      "money - 0.00000\n",
      "dinero - 0.00280\n",
      "argent - 0.01272\n",
      "pagar - 0.01345\n",
      "pay - 0.01371\n",
      "photo - 0.01373\n",
      "foto - 0.02197\n",
      "payer - 0.02376\n",
      "vendre - 0.02471\n",
      "sell - 0.02497\n",
      "wayne - 0.02669\n",
      "dollar - 0.02681\n",
      "vender - 0.02709\n",
      "usd - 0.03019\n",
      "caja - 0.03054\n",
      "señorito - 0.03360\n",
      "buy - 0.03399\n",
      "talent - 0.03489\n",
      "herself - 0.03544\n",
      "fantôme - 0.03559\n",
      "appreciate - 0.03616\n",
      "criminal - 0.03628\n",
      "fric - 0.03677\n",
      "examen - 0.03689\n",
      "clown - 0.03755\n"
     ]
    }
   ],
   "source": [
    "palabras_mas_cercanas('money', topics_mat, n = 25)"
   ]
  },
  {
   "cell_type": "code",
   "execution_count": 169,
   "metadata": {},
   "outputs": [
    {
     "name": "stdout",
     "output_type": "stream",
     "text": [
      "dinero - 0.00000\n",
      "money - 0.00280\n",
      "argent - 0.00992\n",
      "pagar - 0.01065\n",
      "photo - 0.01093\n",
      "pay - 0.01122\n",
      "foto - 0.01917\n",
      "payer - 0.02099\n",
      "vendre - 0.02191\n",
      "sell - 0.02217\n",
      "wayne - 0.02389\n",
      "dollar - 0.02401\n",
      "vender - 0.02429\n",
      "usd - 0.02739\n",
      "caja - 0.02774\n",
      "señorito - 0.03081\n",
      "buy - 0.03128\n",
      "talent - 0.03209\n",
      "herself - 0.03264\n",
      "fantôme - 0.03279\n",
      "appreciate - 0.03337\n",
      "criminal - 0.03348\n",
      "fric - 0.03397\n",
      "examen - 0.03409\n",
      "clown - 0.03475\n"
     ]
    }
   ],
   "source": [
    "palabras_mas_cercanas('dinero', topics_mat, n = 25)"
   ]
  },
  {
   "cell_type": "code",
   "execution_count": 170,
   "metadata": {},
   "outputs": [
    {
     "name": "stdout",
     "output_type": "stream",
     "text": [
      "argent - 0.00000\n",
      "pagar - 0.00074\n",
      "photo - 0.00101\n",
      "pay - 0.00570\n",
      "foto - 0.00926\n",
      "dinero - 0.00992\n",
      "payer - 0.01131\n",
      "vendre - 0.01200\n",
      "sell - 0.01225\n",
      "money - 0.01272\n",
      "wayne - 0.01397\n",
      "dollar - 0.01409\n",
      "vender - 0.01438\n",
      "usd - 0.01747\n",
      "caja - 0.01782\n",
      "señorito - 0.02097\n",
      "buy - 0.02183\n",
      "talent - 0.02217\n",
      "herself - 0.02272\n",
      "fantôme - 0.02287\n",
      "appreciate - 0.02350\n",
      "criminal - 0.02356\n",
      "fric - 0.02406\n",
      "examen - 0.02418\n",
      "clown - 0.02483\n"
     ]
    }
   ],
   "source": [
    "palabras_mas_cercanas('argent', topics_mat, n = 25)"
   ]
  },
  {
   "cell_type": "code",
   "execution_count": 171,
   "metadata": {},
   "outputs": [
    {
     "name": "stdout",
     "output_type": "stream",
     "text": [
      "dog - 0.00000\n",
      "carajo - 0.00657\n",
      "perro - 0.00888\n",
      "chien - 0.01111\n",
      "school - 0.01149\n",
      "high - 0.01377\n",
      "escuela - 0.01637\n",
      "école - 0.02053\n",
      "max - 0.02260\n",
      "bobby - 0.02836\n",
      "clair - 0.02883\n",
      "grunt - 0.02948\n",
      "miles - 0.04385\n",
      "student - 0.04385\n",
      "toute - 0.04399\n",
      "façon - 0.04431\n",
      "rid - 0.04459\n",
      "mata - 0.04476\n",
      "verano - 0.04626\n",
      "lycée - 0.04644\n",
      "cáncer - 0.04732\n",
      "attraper - 0.04741\n",
      "liste - 0.04828\n",
      "estudiante - 0.04879\n",
      "huge - 0.04908\n"
     ]
    }
   ],
   "source": [
    "palabras_mas_cercanas('dog', topics_mat, n = 25)"
   ]
  },
  {
   "cell_type": "code",
   "execution_count": 172,
   "metadata": {},
   "outputs": [
    {
     "name": "stdout",
     "output_type": "stream",
     "text": [
      "perro - 0.00000\n",
      "school - 0.00261\n",
      "dog - 0.00888\n",
      "carajo - 0.01545\n",
      "chien - 0.01999\n",
      "high - 0.02173\n",
      "escuela - 0.02526\n",
      "école - 0.02941\n",
      "max - 0.03148\n",
      "bobby - 0.03724\n",
      "clair - 0.03771\n",
      "grunt - 0.03836\n",
      "miles - 0.05273\n",
      "student - 0.05273\n",
      "toute - 0.05287\n",
      "façon - 0.05310\n",
      "rid - 0.05347\n",
      "mata - 0.05363\n",
      "verano - 0.05514\n",
      "lycée - 0.05531\n",
      "cáncer - 0.05620\n",
      "attraper - 0.05627\n",
      "liste - 0.05714\n",
      "estudiante - 0.05768\n",
      "huge - 0.05794\n"
     ]
    }
   ],
   "source": [
    "palabras_mas_cercanas('perro', topics_mat, n = 25)"
   ]
  },
  {
   "cell_type": "code",
   "execution_count": 173,
   "metadata": {},
   "outputs": [
    {
     "name": "stdout",
     "output_type": "stream",
     "text": [
      "chien - 0.00000\n",
      "carajo - 0.00454\n",
      "escuela - 0.00526\n",
      "high - 0.00763\n",
      "école - 0.00943\n",
      "dog - 0.01111\n",
      "max - 0.01149\n",
      "bobby - 0.01725\n",
      "clair - 0.01772\n",
      "grunt - 0.01837\n",
      "perro - 0.01999\n",
      "school - 0.02260\n",
      "miles - 0.03274\n",
      "student - 0.03274\n",
      "toute - 0.03288\n",
      "façon - 0.03340\n",
      "rid - 0.03348\n",
      "mata - 0.03367\n",
      "verano - 0.03515\n",
      "lycée - 0.03533\n",
      "cáncer - 0.03621\n",
      "attraper - 0.03633\n",
      "liste - 0.03720\n",
      "estudiante - 0.03768\n",
      "huge - 0.03801\n"
     ]
    }
   ],
   "source": [
    "palabras_mas_cercanas('chien', topics_mat, n = 25)"
   ]
  },
  {
   "cell_type": "code",
   "execution_count": 174,
   "metadata": {},
   "outputs": [
    {
     "name": "stdout",
     "output_type": "stream",
     "text": [
      "amor - 0.00000\n",
      "familia - 0.00514\n",
      "amour - 0.01109\n",
      "famille - 0.01474\n",
      "family - 0.02148\n",
      "amar - 0.02360\n",
      "malade - 0.03714\n",
      "triste - 0.04029\n",
      "wedding - 0.04141\n",
      "souffrir - 0.04648\n",
      "honest - 0.04892\n",
      "extrañar - 0.04904\n",
      "gentil - 0.04907\n",
      "pitié - 0.04976\n",
      "you - 0.04983\n",
      "doux - 0.05141\n",
      "toilette - 0.05145\n",
      "además - 0.05246\n",
      "papa - 0.05270\n",
      "jamás - 0.05371\n",
      "weyland - 0.05383\n",
      "deserve - 0.05431\n",
      "fix - 0.05434\n",
      "envie - 0.05437\n",
      "lover - 0.05445\n"
     ]
    }
   ],
   "source": [
    "palabras_mas_cercanas('amor', topics_mat, n = 25)"
   ]
  },
  {
   "cell_type": "code",
   "execution_count": 175,
   "metadata": {},
   "outputs": [
    {
     "name": "stdout",
     "output_type": "stream",
     "text": [
      "amour - 0.00000\n",
      "familia - 0.00641\n",
      "famille - 0.00758\n",
      "amor - 0.01109\n",
      "family - 0.01355\n",
      "amar - 0.01365\n",
      "malade - 0.02629\n",
      "triste - 0.02945\n",
      "wedding - 0.03058\n",
      "souffrir - 0.03567\n",
      "honest - 0.03810\n",
      "extrañar - 0.03825\n",
      "gentil - 0.03871\n",
      "pitié - 0.03897\n",
      "you - 0.03901\n",
      "doux - 0.04060\n",
      "toilette - 0.04063\n",
      "además - 0.04176\n",
      "papa - 0.04188\n",
      "weyland - 0.04302\n",
      "jamás - 0.04314\n",
      "deserve - 0.04352\n",
      "fix - 0.04363\n",
      "lover - 0.04363\n",
      "moneda - 0.04374\n"
     ]
    }
   ],
   "source": [
    "palabras_mas_cercanas('amour', topics_mat, n = 25)"
   ]
  },
  {
   "cell_type": "code",
   "execution_count": 176,
   "metadata": {},
   "outputs": [
    {
     "name": "stdout",
     "output_type": "stream",
     "text": [
      "door - 0.00000\n",
      "open - 0.00816\n",
      "puerta - 0.01115\n",
      "cerrar - 0.03042\n",
      "ouvrer - 0.03855\n",
      "arriba - 0.04003\n",
      "close - 0.04242\n",
      "abajo - 0.04299\n",
      "acá - 0.04543\n",
      "fermer - 0.04587\n",
      "ouvrir - 0.04613\n",
      "video - 0.04662\n",
      "lock - 0.04664\n",
      "camera - 0.04702\n",
      "allá - 0.04714\n",
      "cámara - 0.04774\n",
      "demonio - 0.04776\n",
      "andar - 0.04932\n",
      "caméra - 0.05004\n",
      "entrer - 0.05012\n",
      "mover - 0.05030\n",
      "afuera - 0.05038\n",
      "outside - 0.05075\n",
      "hurry - 0.05196\n",
      "calm - 0.05203\n"
     ]
    }
   ],
   "source": [
    "palabras_mas_cercanas('door', topics_mat, n = 25)"
   ]
  },
  {
   "cell_type": "code",
   "execution_count": 177,
   "metadata": {},
   "outputs": [
    {
     "name": "stdout",
     "output_type": "stream",
     "text": [
      "sangre - 0.00000\n",
      "sang - 0.01388\n",
      "toucher - 0.01721\n",
      "kane - 0.02781\n",
      "monstre - 0.03599\n",
      "bird - 0.03601\n",
      "corps - 0.03635\n",
      "reculer - 0.03830\n",
      "enlever - 0.03879\n",
      "vérité - 0.04036\n",
      "laisse - 0.04097\n",
      "pecho - 0.04142\n",
      "sein - 0.04383\n",
      "oscuridad - 0.04394\n",
      "supe - 0.04487\n",
      "magic - 0.04492\n",
      "interior - 0.04511\n",
      "peor - 0.04564\n",
      "mapa - 0.04578\n",
      "arracher - 0.04581\n",
      "résister - 0.04590\n",
      "créature - 0.04622\n",
      "elección - 0.04625\n",
      "sas - 0.04653\n",
      "hunter - 0.04750\n"
     ]
    }
   ],
   "source": [
    "palabras_mas_cercanas('sangre', topics_mat, n = 25)"
   ]
  },
  {
   "cell_type": "code",
   "execution_count": 178,
   "metadata": {},
   "outputs": [
    {
     "name": "stdout",
     "output_type": "stream",
     "text": [
      "fiesta - 0.00000\n",
      "mmm - 0.00119\n",
      "fête - 0.00393\n",
      "habitación - 0.00531\n",
      "party - 0.00601\n",
      "wake - 0.00725\n",
      "despierto - 0.00729\n",
      "sick - 0.00731\n",
      "rock - 0.00767\n",
      "abuelo - 0.00947\n",
      "sleep - 0.00949\n",
      "chaud - 0.00983\n",
      "dîner - 0.01015\n",
      "suck - 0.01111\n",
      "chocolate - 0.01128\n",
      "hermoso - 0.01138\n",
      "baño - 0.01160\n",
      "tocar - 0.01179\n",
      "bag - 0.01181\n",
      "tomorrow - 0.01197\n",
      "infectar - 0.01199\n",
      "caliente - 0.01200\n",
      "pill - 0.01230\n",
      "sensible - 0.01231\n",
      "vaya - 0.01243\n"
     ]
    }
   ],
   "source": [
    "palabras_mas_cercanas('fiesta', topics_mat, n = 25)"
   ]
  },
  {
   "cell_type": "code",
   "execution_count": 179,
   "metadata": {},
   "outputs": [
    {
     "name": "stdout",
     "output_type": "stream",
     "text": [
      "sick - 0.00000\n",
      "despierto - 0.00472\n",
      "fête - 0.00481\n",
      "rock - 0.00492\n",
      "abuelo - 0.00519\n",
      "chaud - 0.00543\n",
      "habitación - 0.00547\n",
      "dîner - 0.00617\n",
      "chocolate - 0.00650\n",
      "suck - 0.00668\n",
      "infectar - 0.00708\n",
      "caliente - 0.00711\n",
      "fiesta - 0.00731\n",
      "pill - 0.00733\n",
      "sensible - 0.00737\n",
      "baño - 0.00745\n",
      "leche - 0.00746\n",
      "trago - 0.00765\n",
      "vaya - 0.00778\n",
      "party - 0.00785\n",
      "déconner - 0.00797\n",
      "wake - 0.00800\n",
      "froid - 0.00804\n",
      "warm - 0.00805\n",
      "winter - 0.00805\n"
     ]
    }
   ],
   "source": [
    "palabras_mas_cercanas('sick', topics_mat, n = 25)"
   ]
  },
  {
   "cell_type": "code",
   "execution_count": 180,
   "metadata": {},
   "outputs": [
    {
     "name": "stdout",
     "output_type": "stream",
     "text": [
      "victoire - 0.00000\n",
      "mankind - 0.00128\n",
      "pendiente - 0.00128\n",
      "worthy - 0.00128\n",
      "choper - 0.00128\n",
      "temor - 0.00128\n",
      "gwen - 0.00129\n",
      "claquer - 0.00130\n",
      "initial - 0.00130\n",
      "illegal - 0.00130\n",
      "warrior - 0.00132\n",
      "traitor - 0.00132\n",
      "referencia - 0.00133\n",
      "noirs - 0.00135\n",
      "formule - 0.00135\n",
      "conquistar - 0.00137\n",
      "generation - 0.00138\n",
      "abro - 0.00139\n",
      "anger - 0.00139\n",
      "voto - 0.00140\n",
      "traidor - 0.00144\n",
      "sénateur - 0.00144\n",
      "opposer - 0.00145\n",
      "fácilmente - 0.00145\n",
      "counter - 0.00146\n"
     ]
    }
   ],
   "source": [
    "palabras_mas_cercanas('victoire', topics_mat, n = 25)"
   ]
  },
  {
   "cell_type": "code",
   "execution_count": 182,
   "metadata": {},
   "outputs": [
    {
     "name": "stdout",
     "output_type": "stream",
     "text": [
      "victory - 0.00000\n",
      "cuisiner - 0.00002\n",
      "forbid - 0.00003\n",
      "dooku - 0.00006\n",
      "strain - 0.00008\n",
      "république - 0.00012\n",
      "padmé - 0.00027\n",
      "complot - 0.00027\n",
      "naboo - 0.00035\n",
      "alderaan - 0.00036\n",
      "jabba - 0.00039\n",
      "restore - 0.00039\n",
      "decente - 0.00042\n",
      "rebelión - 0.00044\n",
      "droide - 0.00047\n",
      "insupportable - 0.00048\n",
      "atorar - 0.00050\n",
      "comte - 0.00052\n",
      "rebellion - 0.00054\n",
      "grievous - 0.00054\n",
      "droïde - 0.00059\n",
      "pit - 0.00060\n",
      "sabre - 0.00060\n",
      "defraudar - 0.00062\n",
      "ruine - 0.00063\n"
     ]
    }
   ],
   "source": [
    "palabras_mas_cercanas('victory', topics_mat, n = 25)"
   ]
  },
  {
   "cell_type": "code",
   "execution_count": 183,
   "metadata": {},
   "outputs": [
    {
     "name": "stdout",
     "output_type": "stream",
     "text": [
      "victoria - 0.00000\n",
      "war - 0.00330\n",
      "guerra - 0.00417\n",
      "pelear - 0.00539\n",
      "guerre - 0.00610\n",
      "promise - 0.00814\n",
      "battre - 0.00834\n",
      "luchar - 0.00939\n",
      "fear - 0.01323\n",
      "strong - 0.01341\n",
      "destino - 0.01372\n",
      "lay - 0.01461\n",
      "throat - 0.01564\n",
      "vencer - 0.01644\n",
      "choc - 0.01653\n",
      "fate - 0.01687\n",
      "gift - 0.01697\n",
      "soldier - 0.01700\n",
      "colère - 0.01730\n",
      "noble - 0.01730\n",
      "prometer - 0.01735\n",
      "lèvre - 0.01757\n",
      "intervenir - 0.01761\n",
      "create - 0.01772\n",
      "aprovechar - 0.01778\n"
     ]
    }
   ],
   "source": [
    "palabras_mas_cercanas('victoria', topics_mat, n = 25)"
   ]
  },
  {
   "cell_type": "code",
   "execution_count": null,
   "metadata": {},
   "outputs": [],
   "source": []
  }
 ],
 "metadata": {
  "kernelspec": {
   "display_name": "Python 3",
   "language": "python",
   "name": "python3"
  },
  "language_info": {
   "codemirror_mode": {
    "name": "ipython",
    "version": 3
   },
   "file_extension": ".py",
   "mimetype": "text/x-python",
   "name": "python",
   "nbconvert_exporter": "python",
   "pygments_lexer": "ipython3",
   "version": "3.6.6"
  }
 },
 "nbformat": 4,
 "nbformat_minor": 2
}
